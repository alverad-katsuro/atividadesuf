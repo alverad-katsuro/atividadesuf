{
 "cells": [
  {
   "cell_type": "code",
   "execution_count": 2,
   "metadata": {},
   "outputs": [],
   "source": [
    "def main():\n",
    "    bina1, bina2 = entrada()\n",
    "    if bina1 == bina2:\n",
    "        print(\"\\033[34mO binario resultante é\", 0)\n",
    "    elif all(bina2[k] == '0' for k in range(len(bina2))):\n",
    "        print(\"Digite um valor diferente de 0\")\n",
    "        main()\n",
    "    else:\n",
    "        bina2 = inversor(bina1, bina2)\n",
    "        resultado = soma(bina1, bina2)\n",
    "        print(\"\\033[34mO binario resultante é\", resultado)"
   ]
  },
  {
   "cell_type": "code",
   "execution_count": 3,
   "metadata": {},
   "outputs": [],
   "source": [
    "def entrada():\n",
    "    string = input(\"\\033[34mDigite a equação na ordem BIN - BIN\\n\")\n",
    "    string_permitida = \"10- \"\n",
    "    lista1 = list(string)\n",
    "    bina1 = []\n",
    "    bina2 = []\n",
    "    try:\n",
    "        for i in range(len(lista1)):\n",
    "            if not lista1[i] in string_permitida:\n",
    "                print(\"\\033[31mDigite um Binario certo na ordem certa\")\n",
    "                entrada()\n",
    "    finally:\n",
    "        menos = lista1.index(\"-\")\n",
    "        espaco = lista1.count(\" \")\n",
    "        for k in range(espaco):\n",
    "            lista1.remove(\" \")\n",
    "        lista1.remove(\"-\")\n",
    "        for i in range(0, menos):\n",
    "            bina1.append(lista1[i])\n",
    "        for k in range(menos, len(lista1)):\n",
    "            bina2.append(lista1[k])\n",
    "        return bina1, bina2"
   ]
  },
  {
   "cell_type": "code",
   "execution_count": 4,
   "metadata": {},
   "outputs": [],
   "source": [
    "def inversor(bina1, bina2: list):\n",
    "    inversa = []\n",
    "    while len(bina1)%4 != 0:\n",
    "        bina2.insert(0,\"0\")\n",
    "        if len(bina1) == len(bina2):\n",
    "            break\n",
    "    for i in range(len(bina2)):\n",
    "        if int(bina2[i]) == 1:\n",
    "            inversa.append(\"0\")\n",
    "        else:\n",
    "            inversa.append(\"1\")\n",
    "    k = len(inversa) - 1\n",
    "    if inversa[k] == \"0\":\n",
    "        inversa[k] = \"1\"\n",
    "    else:\n",
    "        c = 1\n",
    "        while c > 0:\n",
    "            for j in reversed(range(len(inversa))):\n",
    "                if inversa[j] == \"1\":\n",
    "                    inversa[j] = \"0\"\n",
    "                    if inversa[j-1] == \"0\":\n",
    "                        inversa[j-1] = \"1\"\n",
    "                        c = 0\n",
    "                        break\n",
    "    return inversa\n"
   ]
  },
  {
   "cell_type": "code",
   "execution_count": 6,
   "metadata": {},
   "outputs": [],
   "source": [
    "def soma(bina1, bina2):\n",
    "    sobra = 0\n",
    "    bina1.insert(0, \"0\")\n",
    "    bina2.insert(0, \"0\")\n",
    "    if len(bina1) > len(bina2):\n",
    "        k = len(bina1)-len(bina2)\n",
    "        while k > 0:\n",
    "            bina2.insert(0,\"0\")\n",
    "            k -= 1\n",
    "    else:\n",
    "        k = len(bina2) - len(bina1)\n",
    "        while k > 0:\n",
    "            bina1.insert(0, \"0\")\n",
    "            k -= 1\n",
    "    bina_resultado = \"\"\n",
    "    for j in reversed(range(len(bina1))):\n",
    "        if bina1[j] == bina2[j] == \"1\":\n",
    "            if sobra == 1:\n",
    "                bina_resultado += \"1\"\n",
    "            else:\n",
    "                bina_resultado += \"0\"\n",
    "                sobra = 1\n",
    "        elif bina1[j] == \"1\" and bina2[j] == \"0\":\n",
    "            if sobra == 1:\n",
    "                bina_resultado += \"0\"\n",
    "            else:\n",
    "                bina_resultado += \"1\"\n",
    "        elif bina1[j] == \"0\" and bina2[j] == \"1\":\n",
    "            if sobra == 1:\n",
    "                bina_resultado += \"0\"\n",
    "            else:\n",
    "                bina_resultado += \"1\"\n",
    "        else:\n",
    "            if sobra == 1:\n",
    "                bina_resultado += \"1\"\n",
    "                sobra = 0\n",
    "            else:\n",
    "                bina_resultado += \"0\"\n",
    "    bina_resultado = bina_resultado.removesuffix(\"1\")\n",
    "    bina_resultado = bina_resultado[::-1]\n",
    "    return int(bina_resultado)"
   ]
  },
  {
   "cell_type": "code",
   "execution_count": 7,
   "metadata": {},
   "outputs": [
    {
     "name": "stdout",
     "output_type": "stream",
     "text": [
      "Digite a equação na ordem BIN - BIN\n",
      "10101-1\n",
      "10100\n",
      "\u001b[34mO binario resultante é 10100\n"
     ]
    }
   ],
   "source": [
    "main()"
   ]
  },
  {
   "cell_type": "code",
   "execution_count": null,
   "metadata": {},
   "outputs": [],
   "source": []
  },
  {
   "cell_type": "code",
   "execution_count": null,
   "metadata": {},
   "outputs": [],
   "source": []
  }
 ],
 "metadata": {
  "kernelspec": {
   "display_name": "Python 3",
   "language": "python",
   "name": "python3"
  },
  "language_info": {
   "codemirror_mode": {
    "name": "ipython",
    "version": 3
   },
   "file_extension": ".py",
   "mimetype": "text/x-python",
   "name": "python",
   "nbconvert_exporter": "python",
   "pygments_lexer": "ipython3",
   "version": "3.9.0"
  }
 },
 "nbformat": 4,
 "nbformat_minor": 4
}
