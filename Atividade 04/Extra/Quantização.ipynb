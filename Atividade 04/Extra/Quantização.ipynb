{
 "cells": [
  {
   "cell_type": "code",
   "execution_count": 1,
   "metadata": {},
   "outputs": [
    {
     "name": "stdout",
     "output_type": "stream",
     "text": [
      "Entre com a quantidade de niveis\n",
      "3\n",
      "\u001b[34mO intervalo de valores (números inteiros) que podem ser armazenados por uma 'palavra' de 2 Bit é de 4 informações diferentes\n",
      "Você quer a lista de bits?\n",
      "1. Para sim\n",
      "2. Para não\n",
      "1\n",
      "[0, 1, 10, 11]\n"
     ]
    }
   ],
   "source": [
    "from time import sleep\n",
    "\n",
    "\n",
    "#Quais bits estão em cada nivel#\n",
    "def entrada():\n",
    "    ent = input(\"\\033[34mEntre com a quantidade de niveis\\n\")\n",
    "    try:\n",
    "        if isinstance(int(ent),int):\n",
    "            if int(ent) >0:\n",
    "                return int(ent)\n",
    "            else:\n",
    "                print(\"\\033[34mVocê é besta?\\nDigite um valor inteiro > 0\\n\")\n",
    "                sleep(1.5)\n",
    "                entrada()\n",
    "    except ValueError:\n",
    "        print(\"\\033[34mVocê é besta?\\nDigite um valor inteiro >0\\n\")\n",
    "        sleep(1.5)\n",
    "        entrada()\n",
    "\n",
    "def bit_por_nivel(ent):\n",
    "    n = 0\n",
    "    lista_bits = []\n",
    "    if ent % 2 != 0:\n",
    "        ent += 1\n",
    "    while 2**n != ent:\n",
    "        n += 1\n",
    "        bit = n\n",
    "    intervalo = 2**bit\n",
    "    print(\"\\033[34mO intervalo de valores (números inteiros)\"\n",
    "          \" que podem ser armazenados por uma 'palavra'\"\n",
    "          \" de %a Bit é de %a informações diferentes\" %(bit,intervalo))\n",
    "    a = 0\n",
    "    while a != 1 and a != 2:\n",
    "        a = input(\"\\033[34mVocê quer a lista de bits?\\n1. Para sim\\n2. Para não\\n\")\n",
    "        try:\n",
    "            if isinstance(int(a),int):\n",
    "                a = int(a)\n",
    "        except ValueError:\n",
    "            print(\"\\033[31;1mError 404\")\n",
    "            sleep(5)\n",
    "            print(\"Digite 1 ou 2\")\n",
    "    for k in range(ent):\n",
    "        lista_bits.append(int(format(k,'b')))\n",
    "\n",
    "    if a == 1:\n",
    "        print(lista_bits)\n",
    "        return\n",
    "    else:\n",
    "        print(\"\\033[34mQue pena\")\n",
    "        return\n",
    "\n",
    "def chama_td():\n",
    "    x = entrada()\n",
    "    bit_por_nivel(x)\n",
    "\n",
    "chama_td()"
   ]
  }
 ],
 "metadata": {
  "kernelspec": {
   "display_name": "Python 3",
   "language": "python",
   "name": "python3"
  },
  "language_info": {
   "codemirror_mode": {
    "name": "ipython",
    "version": 3
   },
   "file_extension": ".py",
   "mimetype": "text/x-python",
   "name": "python",
   "nbconvert_exporter": "python",
   "pygments_lexer": "ipython3",
   "version": "3.9.0"
  }
 },
 "nbformat": 4,
 "nbformat_minor": 4
}
