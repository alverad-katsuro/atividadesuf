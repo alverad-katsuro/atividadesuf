{
 "cells": [
  {
   "cell_type": "code",
   "execution_count": 1,
   "metadata": {},
   "outputs": [],
   "source": [
    "from time import sleep\n",
    "from random import choice"
   ]
  },
  {
   "cell_type": "code",
   "execution_count": 2,
   "metadata": {},
   "outputs": [],
   "source": [
    "memoria = {0:0, 1:0, 2:0, 3:0, 4:0, 5:0, 6:0, 7:0, 8:0, 9:0, 10:0, 11:0, 12:0, 13:0, 14:0, 15:0}\n",
    "memoria_cache = {}\n",
    "lista_keys = list(memoria.keys())"
   ]
  },
  {
   "cell_type": "code",
   "execution_count": 3,
   "metadata": {},
   "outputs": [],
   "source": [
    "def leitura():\n",
    "    endereco = input(\"Digite o endereço de 4 bits: \")\n",
    "    if len(endereco) == 4:\n",
    "        endereco = int(endereco, 2)\n",
    "        if endereco in memoria_cache:\n",
    "            print(f\"\\030[33mDado na memória cache\\nO dado em {endereco:04b} é {memoria_cache[endereco]:08b}\")\n",
    "        else:\n",
    "            print(f\"\\033[35mO dado em está na MP {endereco:04b} é {memoria[endereco]:08b}\")\n",
    "    else:\n",
    "        print(\"\\033[31mDigite um endereço valido\")\n",
    "        leitura()"
   ]
  },
  {
   "cell_type": "code",
   "execution_count": 4,
   "metadata": {},
   "outputs": [],
   "source": [
    "def escrita():\n",
    "    endereco = input(\"Digite o endereço de 4 bits: \")\n",
    "    celula = input(\"Digite o valor da célula 8 bits: \")\n",
    "    if len(endereco) == 4:\n",
    "        endereco = int(endereco, 2)\n",
    "        if len(celula) == 8:\n",
    "            celula = int(celula)\n",
    "            memoria[endereco] = celula\n",
    "        else:\n",
    "            print(\"\\033[31Digite uma célula valida\")\n",
    "    else:\n",
    "        print(\"\\033[31Digite um endereço valido\")\n",
    "    memo_cache()"
   ]
  },
  {
   "cell_type": "code",
   "execution_count": 5,
   "metadata": {},
   "outputs": [],
   "source": [
    "def memo_cache():\n",
    "    global lista_keys\n",
    "    par = {}\n",
    "    impa = {}\n",
    "    while (len(par) < 4) or (len(impa) < 4):\n",
    "        escolha = choice(lista_keys)\n",
    "        if (escolha % 2 == 0) and len(par) < 4:\n",
    "            if escolha not in par:\n",
    "                par.update({escolha:memoria[escolha]})\n",
    "        else:\n",
    "            if escolha not in impa and len(impa) < 4:\n",
    "                impa.update({escolha:memoria[escolha]})\n",
    "    memoria_cache.update(par)\n",
    "    memoria_cache.update(impa)"
   ]
  },
  {
   "cell_type": "code",
   "execution_count": 6,
   "metadata": {},
   "outputs": [],
   "source": [
    "def ler_tudo():\n",
    "    print(\"{:-^30}\".format(\"Memória Principal\"))\n",
    "    for k in range(len(memoria)):\n",
    "        print(f\"\\033[35mEndereço {k:04b} valor {memoria[k]:08b}\")\n",
    "    print(\"{:-^30}\".format(\"Memória Cache\"))\n",
    "    for keys in memoria_cache.keys():\n",
    "        bina = f'{keys:04b}'\n",
    "        tag = bina[:3]\n",
    "        conj = bina[3:4]\n",
    "        print(f\"\\033[30mTag: {tag} Conjunto: {conj} Valor: {memoria_cache[keys]:08b}\")\n",
    "    sleep(5)"
   ]
  },
  {
   "cell_type": "code",
   "execution_count": null,
   "metadata": {},
   "outputs": [
    {
     "name": "stdout",
     "output_type": "stream",
     "text": [
      "Digite:\n",
      "W para escrever\n",
      "R para ler\n",
      "L para ler tudo\n",
      "Qualquer tecla para parar\n",
      "r\n",
      "Digite o endereço de 4 bits: 1010\n",
      "\u001b[35mO dado em está na MP 1010 é 00000000\n",
      "Digite:\n",
      "W para escrever\n",
      "R para ler\n",
      "L para ler tudo\n",
      "Qualquer tecla para parar\n",
      "l\n",
      "------Memória Principal-------\n",
      "\u001b[35mEndereço 0000 valor 00000000\n",
      "\u001b[35mEndereço 0001 valor 00000000\n",
      "\u001b[35mEndereço 0010 valor 00000000\n",
      "\u001b[35mEndereço 0011 valor 00000000\n",
      "\u001b[35mEndereço 0100 valor 00000000\n",
      "\u001b[35mEndereço 0101 valor 00000000\n",
      "\u001b[35mEndereço 0110 valor 00000000\n",
      "\u001b[35mEndereço 0111 valor 00000000\n",
      "\u001b[35mEndereço 1000 valor 00000000\n",
      "\u001b[35mEndereço 1001 valor 00000000\n",
      "\u001b[35mEndereço 1010 valor 00000000\n",
      "\u001b[35mEndereço 1011 valor 00000000\n",
      "\u001b[35mEndereço 1100 valor 00000000\n",
      "\u001b[35mEndereço 1101 valor 00000000\n",
      "\u001b[35mEndereço 1110 valor 00000000\n",
      "\u001b[35mEndereço 1111 valor 00000000\n",
      "--------Memória Cache---------\n",
      "\u001b[30mTag: 110 Conjunto: 0 Valor: 00000000\n",
      "\u001b[30mTag: 000 Conjunto: 0 Valor: 00000000\n",
      "\u001b[30mTag: 111 Conjunto: 0 Valor: 00000000\n",
      "\u001b[30mTag: 001 Conjunto: 0 Valor: 00000000\n",
      "\u001b[30mTag: 001 Conjunto: 1 Valor: 00000000\n",
      "\u001b[30mTag: 000 Conjunto: 1 Valor: 00000000\n",
      "\u001b[30mTag: 100 Conjunto: 1 Valor: 00000000\n",
      "\u001b[30mTag: 010 Conjunto: 1 Valor: 00000000\n",
      "Digite:\n",
      "W para escrever\n",
      "R para ler\n",
      "L para ler tudo\n",
      "Qualquer tecla para parar\n",
      "r\n",
      "Digite o endereço de 4 bits: 1100\n",
      "\u0018[33mDado na memória cache\n",
      "O dado em 1100 é 00000000\n"
     ]
    }
   ],
   "source": [
    "controle = \"w\"\n",
    "memo_cache()\n",
    "while (controle == \"W\") or (controle == \"w\") or (controle == \"R\") or (controle == \"r\") or (controle == \"L\") or (controle == \"l\"):\n",
    "    controle = input(\"\\033[34mDigite:\\nW para escrever\\nR para ler\\nL para ler tudo\\nQualquer tecla para parar\\n\")\n",
    "    if (controle == \"W\") or (controle == \"w\"):\n",
    "        escrita()\n",
    "    elif (controle == \"R\") or (controle == \"r\"):\n",
    "        leitura()\n",
    "    elif (controle == \"L\") or (controle == \"l\"):\n",
    "        ler_tudo()\n",
    "    else:\n",
    "        exit()"
   ]
  },
  {
   "cell_type": "code",
   "execution_count": null,
   "metadata": {},
   "outputs": [],
   "source": []
  }
 ],
 "metadata": {
  "kernelspec": {
   "display_name": "Python 3",
   "language": "python",
   "name": "python3"
  },
  "language_info": {
   "codemirror_mode": {
    "name": "ipython",
    "version": 3
   },
   "file_extension": ".py",
   "mimetype": "text/x-python",
   "name": "python",
   "nbconvert_exporter": "python",
   "pygments_lexer": "ipython3",
   "version": "3.6.11"
  }
 },
 "nbformat": 4,
 "nbformat_minor": 4
}
