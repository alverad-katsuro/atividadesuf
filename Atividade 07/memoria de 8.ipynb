{
 "cells": [
  {
   "cell_type": "code",
   "execution_count": 2,
   "metadata": {},
   "outputs": [],
   "source": [
    "from time import sleep"
   ]
  },
  {
   "cell_type": "code",
   "execution_count": 4,
   "metadata": {},
   "outputs": [],
   "source": [
    "memoria = {0:0, 1:0, 2:0, 3:0, 4:0, 5:0, 6:0, 7:0, 8:0, 9:0, 10:0, 11:0, 12:0, 13:0, 14:0, 15:0}"
   ]
  },
  {
   "cell_type": "code",
   "execution_count": 5,
   "metadata": {},
   "outputs": [],
   "source": [
    "def leitura():\n",
    "    global memoria\n",
    "    endereco = input(\"Digite o endereço de 4 bits: \")\n",
    "    if len(endereco) == 4:\n",
    "        endereco = int(endereco,2)\n",
    "        print(f\"O dado em {endereco} é {memoria[endereco]:08d}\",)\n",
    "    else:\n",
    "        print(\"Digite um endereço valido\")\n",
    "        leitura()"
   ]
  },
  {
   "cell_type": "code",
   "execution_count": 6,
   "metadata": {},
   "outputs": [],
   "source": [
    "def escrita():\n",
    "    global memoria\n",
    "    endereco = input(\"Digite o endereço de 4 bits: \")\n",
    "    celula = input(\"Digite o valor da célula 8 bits: \")\n",
    "    if len(endereco) == 4:\n",
    "        endereco = int(endereco,2)\n",
    "        if len(celula) == 8:\n",
    "            celula = int(celula)\n",
    "            memoria[endereco] = celula\n",
    "        else:\n",
    "            print(\"Digite uma célula valida\")\n",
    "    else:\n",
    "        print(\"Digite um endereço valido\")"
   ]
  },
  {
   "cell_type": "code",
   "execution_count": 7,
   "metadata": {},
   "outputs": [],
   "source": [
    "def ler_tudo():\n",
    "    global memoria\n",
    "    inicio = 0\n",
    "    while inicio <= 15:\n",
    "        print(f\"{memoria[inicio]:08d}\")\n",
    "        inicio += 1\n",
    "    sleep(5)"
   ]
  },
  {
   "cell_type": "code",
   "execution_count": null,
   "metadata": {},
   "outputs": [
    {
     "name": "stdout",
     "output_type": "stream",
     "text": [
      "Digite:\n",
      "W para escrever\n",
      "R para ler\n",
      "L para ler tudo\n",
      "Qualquer tecla para parar\n",
      "w\n",
      "Digite o endereço de 4 bits: 1010\n",
      "Digite o valor da célula 8 bits: 10010111\n",
      "Digite:\n",
      "W para escrever\n",
      "R para ler\n",
      "L para ler tudo\n",
      "Qualquer tecla para parar\n",
      "R\n",
      "Digite o endereço de 4 bits: 1010\n",
      "O dado em 10 é 10010111\n",
      "Digite:\n",
      "W para escrever\n",
      "R para ler\n",
      "L para ler tudo\n",
      "Qualquer tecla para parar\n",
      "l\n",
      "00000000\n",
      "00000000\n",
      "00000000\n",
      "00000000\n",
      "00000000\n",
      "00000000\n",
      "00000000\n",
      "00000000\n",
      "00000000\n",
      "00000000\n",
      "10010111\n",
      "00000000\n",
      "00000000\n",
      "00000000\n",
      "00000000\n",
      "00000000\n"
     ]
    }
   ],
   "source": [
    "controle = \"w\"\n",
    "while (controle == \"W\") or (controle == \"w\") or (controle == \"R\") or (controle == \"r\") or (controle == \"L\") or (controle == \"l\"):\n",
    "    controle = input(\"Digite:\\nW para escrever\\nR para ler\\nL para ler tudo\\nQualquer tecla para parar\\n\")\n",
    "    if (controle == \"W\") or (controle == \"w\"):\n",
    "        escrita()\n",
    "    elif (controle == \"R\") or (controle == \"r\"):\n",
    "        leitura()\n",
    "    elif (controle == \"L\") or (controle == \"l\"):\n",
    "        ler_tudo()\n",
    "    else:\n",
    "        exit()"
   ]
  },
  {
   "cell_type": "code",
   "execution_count": null,
   "metadata": {},
   "outputs": [],
   "source": []
  }
 ],
 "metadata": {
  "kernelspec": {
   "display_name": "Python 3",
   "language": "python",
   "name": "python3"
  },
  "language_info": {
   "codemirror_mode": {
    "name": "ipython",
    "version": 3
   },
   "file_extension": ".py",
   "mimetype": "text/x-python",
   "name": "python",
   "nbconvert_exporter": "python",
   "pygments_lexer": "ipython3",
   "version": "3.6.11"
  }
 },
 "nbformat": 4,
 "nbformat_minor": 4
}
