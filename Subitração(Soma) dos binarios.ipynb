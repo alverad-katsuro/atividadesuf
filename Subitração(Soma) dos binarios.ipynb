{
 "cells": [
  {
   "cell_type": "code",
   "execution_count": 1,
   "metadata": {},
   "outputs": [
    {
     "name": "stdout",
     "output_type": "stream",
     "text": [
      "Digite a equação na ordem BIN - BIN\n",
      "101-101\n",
      "\u001b[34mO binario resultante é 1111\n"
     ]
    }
   ],
   "source": [
    "def main():\n",
    "    bina1, bina2 = entrada()\n",
    "    bina2 = inversor(bina2)\n",
    "    resultado = soma(bina1, bina2)\n",
    "    print(\"\\033[34mO binario resultante é\", resultado)\n",
    "\n",
    "\n",
    "def entrada():\n",
    "    string = input(\"\\033[34mDigite a equação na ordem BIN - BIN\\n\")\n",
    "    string_permitida = \"10- \"\n",
    "    lista1 = list(string)\n",
    "    bina1 = []\n",
    "    bina2 = []\n",
    "    try:\n",
    "        for i in range(len(lista1)):\n",
    "            if not lista1[i] in string_permitida:\n",
    "                print(\"\\033[31mDigite um Binario certo na ordem certa\")\n",
    "                entrada()\n",
    "    finally:\n",
    "        menos = lista1.index(\"-\")\n",
    "        espaco = lista1.count(\" \")\n",
    "        for k in range(espaco):\n",
    "            lista1.remove(\" \")\n",
    "        lista1.remove(\"-\")\n",
    "        for i in range(0, menos):\n",
    "            bina1.append(lista1[i])\n",
    "        for k in range(menos, len(lista1)):\n",
    "            bina2.append(lista1[k])\n",
    "        return bina1, bina2\n",
    "\n",
    "\n",
    "def inversor(bina2: list):\n",
    "    inversa = [\"1\"]\n",
    "    for i in range(len(bina2)):\n",
    "        if int(bina2[i]) == 1:\n",
    "            inversa.append(\"0\")\n",
    "        else:\n",
    "            inversa.append(\"1\")\n",
    "    return inversa\n",
    "\n",
    "\n",
    "def soma(bina1, bina2):\n",
    "    bina1_string = \"\"\n",
    "    bina2_string = \"\"\n",
    "    for i in range(len(bina1)):\n",
    "        bina1_string += bina1[i]\n",
    "    for k in range(len(bina2)):\n",
    "        bina2_string += bina2[k]\n",
    "    if len(bina1_string) > len(bina2_string):\n",
    "        bina2_string = (\"0\"*(len(bina1_string)-len(bina2_string))) + bina2_string\n",
    "        bina2 = list(bina2_string)\n",
    "    else:\n",
    "        bina1_string = (\"0\" * (len(bina2_string) - len(bina1_string))) + bina1_string\n",
    "        bina1 = list(bina1_string)\n",
    "    bina_resultado = \"\"\n",
    "    for j in reversed(range(len(bina1))):\n",
    "        if bina1[j] == bina2[j] == \"1\":\n",
    "            bina_resultado += \"0\"\n",
    "            c = 1\n",
    "        elif bina1[j] == \"1\" and bina2[j] == \"0\":\n",
    "            bina_resultado += \"1\"\n",
    "            c = 0\n",
    "        elif bina1[j] == \"0\" and bina2[j] == \"1\":\n",
    "            bina_resultado += \"1\"\n",
    "            c = 0\n",
    "        else:\n",
    "            bina_resultado += \"0\"\n",
    "            c = 0\n",
    "    if c == 1:\n",
    "        bina_resultado += \"1\"\n",
    "    bina_resultado = bina_resultado[::-1]\n",
    "    return int(bina_resultado)\n",
    "\n",
    "\n",
    "main()"
   ]
  }
 ],
 "metadata": {
  "kernelspec": {
   "display_name": "Python 3",
   "language": "python",
   "name": "python3"
  },
  "language_info": {
   "codemirror_mode": {
    "name": "ipython",
    "version": 3
   },
   "file_extension": ".py",
   "mimetype": "text/x-python",
   "name": "python",
   "nbconvert_exporter": "python",
   "pygments_lexer": "ipython3",
   "version": "3.9.0"
  }
 },
 "nbformat": 4,
 "nbformat_minor": 4
}
